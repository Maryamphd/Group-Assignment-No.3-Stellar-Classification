{
 "cells": [
  {
   "cell_type": "markdown",
   "id": "32062a87-1c7e-44d4-851a-1b1057233658",
   "metadata": {},
   "source": [
    "# Assignment 3: Steller Classification"
   ]
  },
  {
   "cell_type": "markdown",
   "id": "a44409b4-24bf-4d57-a82f-7f5db12f7498",
   "metadata": {},
   "source": [
    "### Prerequisites"
   ]
  },
  {
   "cell_type": "code",
   "execution_count": 1,
   "id": "94551392-080f-47ff-b4e1-4110e47a2cf4",
   "metadata": {},
   "outputs": [],
   "source": [
    "#Loading Libraries\n",
    "\n",
    "import numpy as np\n",
    "import pandas as pd\n",
    "import seaborn as sns\n",
    "import matplotlib.pyplot as plt\n",
    "from plotnine import *\n",
    "\n",
    "from imblearn.over_sampling import SMOTE\n",
    "from sklearn.neighbors import LocalOutlierFactor\n",
    "from collections import Counter\n",
    "from sklearn.model_selection import train_test_split\n",
    "from sklearn.model_selection import KFold\n",
    "from sklearn.model_selection import cross_val_score\n",
    "from sklearn.model_selection import GridSearchCV\n",
    "from sklearn.preprocessing import StandardScaler\n",
    "from sklearn.neighbors import KNeighborsClassifier\n",
    "from sklearn.metrics import plot_roc_curve\n",
    "from sklearn.metrics import confusion_matrix\n",
    "from sklearn.metrics import ConfusionMatrixDisplay\n",
    "from sklearn.metrics import classification_report\n",
    "from sklearn.inspection import permutation_importance\n",
    "from sklearn.inspection import partial_dependence"
   ]
  },
  {
   "cell_type": "markdown",
   "id": "f8198f1c",
   "metadata": {},
   "source": [
    "## Exploratory Data Analysis (EDA)"
   ]
  },
  {
   "cell_type": "code",
   "execution_count": 2,
   "id": "8288e5b5-5352-423c-8706-9c3feae4a4aa",
   "metadata": {},
   "outputs": [],
   "source": [
    "#Load Steller data\n",
    "df=pd.read_csv('C:/Users/Mariam/Desktop/Maryam_Python/dsi_2022-02/star_classification.csv')\n"
   ]
  },
  {
   "cell_type": "code",
   "execution_count": 3,
   "id": "9f0dfa36",
   "metadata": {},
   "outputs": [
    {
     "data": {
      "text/html": [
       "<div>\n",
       "<style scoped>\n",
       "    .dataframe tbody tr th:only-of-type {\n",
       "        vertical-align: middle;\n",
       "    }\n",
       "\n",
       "    .dataframe tbody tr th {\n",
       "        vertical-align: top;\n",
       "    }\n",
       "\n",
       "    .dataframe thead th {\n",
       "        text-align: right;\n",
       "    }\n",
       "</style>\n",
       "<table border=\"1\" class=\"dataframe\">\n",
       "  <thead>\n",
       "    <tr style=\"text-align: right;\">\n",
       "      <th></th>\n",
       "      <th>obj_ID</th>\n",
       "      <th>alpha</th>\n",
       "      <th>delta</th>\n",
       "      <th>u</th>\n",
       "      <th>g</th>\n",
       "      <th>r</th>\n",
       "      <th>i</th>\n",
       "      <th>z</th>\n",
       "      <th>run_ID</th>\n",
       "      <th>rerun_ID</th>\n",
       "      <th>cam_col</th>\n",
       "      <th>field_ID</th>\n",
       "      <th>spec_obj_ID</th>\n",
       "      <th>class</th>\n",
       "      <th>redshift</th>\n",
       "      <th>plate</th>\n",
       "      <th>MJD</th>\n",
       "      <th>fiber_ID</th>\n",
       "    </tr>\n",
       "  </thead>\n",
       "  <tbody>\n",
       "    <tr>\n",
       "      <th>0</th>\n",
       "      <td>1.237661e+18</td>\n",
       "      <td>135.689107</td>\n",
       "      <td>32.494632</td>\n",
       "      <td>23.87882</td>\n",
       "      <td>22.27530</td>\n",
       "      <td>20.39501</td>\n",
       "      <td>19.16573</td>\n",
       "      <td>18.79371</td>\n",
       "      <td>3606</td>\n",
       "      <td>301</td>\n",
       "      <td>2</td>\n",
       "      <td>79</td>\n",
       "      <td>6.543777e+18</td>\n",
       "      <td>GALAXY</td>\n",
       "      <td>0.634794</td>\n",
       "      <td>5812</td>\n",
       "      <td>56354</td>\n",
       "      <td>171</td>\n",
       "    </tr>\n",
       "    <tr>\n",
       "      <th>1</th>\n",
       "      <td>1.237665e+18</td>\n",
       "      <td>144.826101</td>\n",
       "      <td>31.274185</td>\n",
       "      <td>24.77759</td>\n",
       "      <td>22.83188</td>\n",
       "      <td>22.58444</td>\n",
       "      <td>21.16812</td>\n",
       "      <td>21.61427</td>\n",
       "      <td>4518</td>\n",
       "      <td>301</td>\n",
       "      <td>5</td>\n",
       "      <td>119</td>\n",
       "      <td>1.176014e+19</td>\n",
       "      <td>GALAXY</td>\n",
       "      <td>0.779136</td>\n",
       "      <td>10445</td>\n",
       "      <td>58158</td>\n",
       "      <td>427</td>\n",
       "    </tr>\n",
       "    <tr>\n",
       "      <th>2</th>\n",
       "      <td>1.237661e+18</td>\n",
       "      <td>142.188790</td>\n",
       "      <td>35.582444</td>\n",
       "      <td>25.26307</td>\n",
       "      <td>22.66389</td>\n",
       "      <td>20.60976</td>\n",
       "      <td>19.34857</td>\n",
       "      <td>18.94827</td>\n",
       "      <td>3606</td>\n",
       "      <td>301</td>\n",
       "      <td>2</td>\n",
       "      <td>120</td>\n",
       "      <td>5.152200e+18</td>\n",
       "      <td>GALAXY</td>\n",
       "      <td>0.644195</td>\n",
       "      <td>4576</td>\n",
       "      <td>55592</td>\n",
       "      <td>299</td>\n",
       "    </tr>\n",
       "    <tr>\n",
       "      <th>3</th>\n",
       "      <td>1.237663e+18</td>\n",
       "      <td>338.741038</td>\n",
       "      <td>-0.402828</td>\n",
       "      <td>22.13682</td>\n",
       "      <td>23.77656</td>\n",
       "      <td>21.61162</td>\n",
       "      <td>20.50454</td>\n",
       "      <td>19.25010</td>\n",
       "      <td>4192</td>\n",
       "      <td>301</td>\n",
       "      <td>3</td>\n",
       "      <td>214</td>\n",
       "      <td>1.030107e+19</td>\n",
       "      <td>GALAXY</td>\n",
       "      <td>0.932346</td>\n",
       "      <td>9149</td>\n",
       "      <td>58039</td>\n",
       "      <td>775</td>\n",
       "    </tr>\n",
       "    <tr>\n",
       "      <th>4</th>\n",
       "      <td>1.237680e+18</td>\n",
       "      <td>345.282593</td>\n",
       "      <td>21.183866</td>\n",
       "      <td>19.43718</td>\n",
       "      <td>17.58028</td>\n",
       "      <td>16.49747</td>\n",
       "      <td>15.97711</td>\n",
       "      <td>15.54461</td>\n",
       "      <td>8102</td>\n",
       "      <td>301</td>\n",
       "      <td>3</td>\n",
       "      <td>137</td>\n",
       "      <td>6.891865e+18</td>\n",
       "      <td>GALAXY</td>\n",
       "      <td>0.116123</td>\n",
       "      <td>6121</td>\n",
       "      <td>56187</td>\n",
       "      <td>842</td>\n",
       "    </tr>\n",
       "  </tbody>\n",
       "</table>\n",
       "</div>"
      ],
      "text/plain": [
       "         obj_ID       alpha      delta         u         g         r  \\\n",
       "0  1.237661e+18  135.689107  32.494632  23.87882  22.27530  20.39501   \n",
       "1  1.237665e+18  144.826101  31.274185  24.77759  22.83188  22.58444   \n",
       "2  1.237661e+18  142.188790  35.582444  25.26307  22.66389  20.60976   \n",
       "3  1.237663e+18  338.741038  -0.402828  22.13682  23.77656  21.61162   \n",
       "4  1.237680e+18  345.282593  21.183866  19.43718  17.58028  16.49747   \n",
       "\n",
       "          i         z  run_ID  rerun_ID  cam_col  field_ID   spec_obj_ID  \\\n",
       "0  19.16573  18.79371    3606       301        2        79  6.543777e+18   \n",
       "1  21.16812  21.61427    4518       301        5       119  1.176014e+19   \n",
       "2  19.34857  18.94827    3606       301        2       120  5.152200e+18   \n",
       "3  20.50454  19.25010    4192       301        3       214  1.030107e+19   \n",
       "4  15.97711  15.54461    8102       301        3       137  6.891865e+18   \n",
       "\n",
       "    class  redshift  plate    MJD  fiber_ID  \n",
       "0  GALAXY  0.634794   5812  56354       171  \n",
       "1  GALAXY  0.779136  10445  58158       427  \n",
       "2  GALAXY  0.644195   4576  55592       299  \n",
       "3  GALAXY  0.932346   9149  58039       775  \n",
       "4  GALAXY  0.116123   6121  56187       842  "
      ]
     },
     "execution_count": 3,
     "metadata": {},
     "output_type": "execute_result"
    }
   ],
   "source": [
    "#View the data\n",
    "df.head()"
   ]
  },
  {
   "cell_type": "code",
   "execution_count": 4,
   "id": "f59ab673",
   "metadata": {},
   "outputs": [
    {
     "name": "stdout",
     "output_type": "stream",
     "text": [
      "<class 'pandas.core.frame.DataFrame'>\n",
      "RangeIndex: 100000 entries, 0 to 99999\n",
      "Data columns (total 18 columns):\n",
      " #   Column       Non-Null Count   Dtype  \n",
      "---  ------       --------------   -----  \n",
      " 0   obj_ID       100000 non-null  float64\n",
      " 1   alpha        100000 non-null  float64\n",
      " 2   delta        100000 non-null  float64\n",
      " 3   u            100000 non-null  float64\n",
      " 4   g            100000 non-null  float64\n",
      " 5   r            100000 non-null  float64\n",
      " 6   i            100000 non-null  float64\n",
      " 7   z            100000 non-null  float64\n",
      " 8   run_ID       100000 non-null  int64  \n",
      " 9   rerun_ID     100000 non-null  int64  \n",
      " 10  cam_col      100000 non-null  int64  \n",
      " 11  field_ID     100000 non-null  int64  \n",
      " 12  spec_obj_ID  100000 non-null  float64\n",
      " 13  class        100000 non-null  object \n",
      " 14  redshift     100000 non-null  float64\n",
      " 15  plate        100000 non-null  int64  \n",
      " 16  MJD          100000 non-null  int64  \n",
      " 17  fiber_ID     100000 non-null  int64  \n",
      "dtypes: float64(10), int64(7), object(1)\n",
      "memory usage: 13.7+ MB\n"
     ]
    }
   ],
   "source": [
    "#Basic information\n",
    "df.info()"
   ]
  },
  {
   "cell_type": "code",
   "execution_count": 5,
   "id": "75a93654",
   "metadata": {},
   "outputs": [
    {
     "data": {
      "text/html": [
       "<div>\n",
       "<style scoped>\n",
       "    .dataframe tbody tr th:only-of-type {\n",
       "        vertical-align: middle;\n",
       "    }\n",
       "\n",
       "    .dataframe tbody tr th {\n",
       "        vertical-align: top;\n",
       "    }\n",
       "\n",
       "    .dataframe thead th {\n",
       "        text-align: right;\n",
       "    }\n",
       "</style>\n",
       "<table border=\"1\" class=\"dataframe\">\n",
       "  <thead>\n",
       "    <tr style=\"text-align: right;\">\n",
       "      <th></th>\n",
       "      <th>obj_ID</th>\n",
       "      <th>alpha</th>\n",
       "      <th>delta</th>\n",
       "      <th>u</th>\n",
       "      <th>g</th>\n",
       "      <th>r</th>\n",
       "      <th>i</th>\n",
       "      <th>z</th>\n",
       "      <th>run_ID</th>\n",
       "      <th>rerun_ID</th>\n",
       "      <th>cam_col</th>\n",
       "      <th>field_ID</th>\n",
       "      <th>spec_obj_ID</th>\n",
       "      <th>redshift</th>\n",
       "      <th>plate</th>\n",
       "      <th>MJD</th>\n",
       "      <th>fiber_ID</th>\n",
       "    </tr>\n",
       "  </thead>\n",
       "  <tbody>\n",
       "    <tr>\n",
       "      <th>count</th>\n",
       "      <td>1.000000e+05</td>\n",
       "      <td>100000.000000</td>\n",
       "      <td>100000.000000</td>\n",
       "      <td>100000.000000</td>\n",
       "      <td>100000.000000</td>\n",
       "      <td>100000.000000</td>\n",
       "      <td>100000.000000</td>\n",
       "      <td>100000.000000</td>\n",
       "      <td>100000.000000</td>\n",
       "      <td>100000.0</td>\n",
       "      <td>100000.000000</td>\n",
       "      <td>100000.000000</td>\n",
       "      <td>1.000000e+05</td>\n",
       "      <td>100000.000000</td>\n",
       "      <td>100000.000000</td>\n",
       "      <td>100000.000000</td>\n",
       "      <td>100000.000000</td>\n",
       "    </tr>\n",
       "    <tr>\n",
       "      <th>mean</th>\n",
       "      <td>1.237665e+18</td>\n",
       "      <td>177.629117</td>\n",
       "      <td>24.135305</td>\n",
       "      <td>21.980468</td>\n",
       "      <td>20.531387</td>\n",
       "      <td>19.645762</td>\n",
       "      <td>19.084854</td>\n",
       "      <td>18.668810</td>\n",
       "      <td>4481.366060</td>\n",
       "      <td>301.0</td>\n",
       "      <td>3.511610</td>\n",
       "      <td>186.130520</td>\n",
       "      <td>5.783882e+18</td>\n",
       "      <td>0.576661</td>\n",
       "      <td>5137.009660</td>\n",
       "      <td>55588.647500</td>\n",
       "      <td>449.312740</td>\n",
       "    </tr>\n",
       "    <tr>\n",
       "      <th>std</th>\n",
       "      <td>8.438560e+12</td>\n",
       "      <td>96.502241</td>\n",
       "      <td>19.644665</td>\n",
       "      <td>31.769291</td>\n",
       "      <td>31.750292</td>\n",
       "      <td>1.854760</td>\n",
       "      <td>1.757895</td>\n",
       "      <td>31.728152</td>\n",
       "      <td>1964.764593</td>\n",
       "      <td>0.0</td>\n",
       "      <td>1.586912</td>\n",
       "      <td>149.011073</td>\n",
       "      <td>3.324016e+18</td>\n",
       "      <td>0.730707</td>\n",
       "      <td>2952.303351</td>\n",
       "      <td>1808.484233</td>\n",
       "      <td>272.498404</td>\n",
       "    </tr>\n",
       "    <tr>\n",
       "      <th>min</th>\n",
       "      <td>1.237646e+18</td>\n",
       "      <td>0.005528</td>\n",
       "      <td>-18.785328</td>\n",
       "      <td>-9999.000000</td>\n",
       "      <td>-9999.000000</td>\n",
       "      <td>9.822070</td>\n",
       "      <td>9.469903</td>\n",
       "      <td>-9999.000000</td>\n",
       "      <td>109.000000</td>\n",
       "      <td>301.0</td>\n",
       "      <td>1.000000</td>\n",
       "      <td>11.000000</td>\n",
       "      <td>2.995191e+17</td>\n",
       "      <td>-0.009971</td>\n",
       "      <td>266.000000</td>\n",
       "      <td>51608.000000</td>\n",
       "      <td>1.000000</td>\n",
       "    </tr>\n",
       "    <tr>\n",
       "      <th>25%</th>\n",
       "      <td>1.237659e+18</td>\n",
       "      <td>127.518222</td>\n",
       "      <td>5.146771</td>\n",
       "      <td>20.352353</td>\n",
       "      <td>18.965230</td>\n",
       "      <td>18.135828</td>\n",
       "      <td>17.732285</td>\n",
       "      <td>17.460677</td>\n",
       "      <td>3187.000000</td>\n",
       "      <td>301.0</td>\n",
       "      <td>2.000000</td>\n",
       "      <td>82.000000</td>\n",
       "      <td>2.844138e+18</td>\n",
       "      <td>0.054517</td>\n",
       "      <td>2526.000000</td>\n",
       "      <td>54234.000000</td>\n",
       "      <td>221.000000</td>\n",
       "    </tr>\n",
       "    <tr>\n",
       "      <th>50%</th>\n",
       "      <td>1.237663e+18</td>\n",
       "      <td>180.900700</td>\n",
       "      <td>23.645922</td>\n",
       "      <td>22.179135</td>\n",
       "      <td>21.099835</td>\n",
       "      <td>20.125290</td>\n",
       "      <td>19.405145</td>\n",
       "      <td>19.004595</td>\n",
       "      <td>4188.000000</td>\n",
       "      <td>301.0</td>\n",
       "      <td>4.000000</td>\n",
       "      <td>146.000000</td>\n",
       "      <td>5.614883e+18</td>\n",
       "      <td>0.424173</td>\n",
       "      <td>4987.000000</td>\n",
       "      <td>55868.500000</td>\n",
       "      <td>433.000000</td>\n",
       "    </tr>\n",
       "    <tr>\n",
       "      <th>75%</th>\n",
       "      <td>1.237668e+18</td>\n",
       "      <td>233.895005</td>\n",
       "      <td>39.901550</td>\n",
       "      <td>23.687440</td>\n",
       "      <td>22.123767</td>\n",
       "      <td>21.044785</td>\n",
       "      <td>20.396495</td>\n",
       "      <td>19.921120</td>\n",
       "      <td>5326.000000</td>\n",
       "      <td>301.0</td>\n",
       "      <td>5.000000</td>\n",
       "      <td>241.000000</td>\n",
       "      <td>8.332144e+18</td>\n",
       "      <td>0.704154</td>\n",
       "      <td>7400.250000</td>\n",
       "      <td>56777.000000</td>\n",
       "      <td>645.000000</td>\n",
       "    </tr>\n",
       "    <tr>\n",
       "      <th>max</th>\n",
       "      <td>1.237681e+18</td>\n",
       "      <td>359.999810</td>\n",
       "      <td>83.000519</td>\n",
       "      <td>32.781390</td>\n",
       "      <td>31.602240</td>\n",
       "      <td>29.571860</td>\n",
       "      <td>32.141470</td>\n",
       "      <td>29.383740</td>\n",
       "      <td>8162.000000</td>\n",
       "      <td>301.0</td>\n",
       "      <td>6.000000</td>\n",
       "      <td>989.000000</td>\n",
       "      <td>1.412694e+19</td>\n",
       "      <td>7.011245</td>\n",
       "      <td>12547.000000</td>\n",
       "      <td>58932.000000</td>\n",
       "      <td>1000.000000</td>\n",
       "    </tr>\n",
       "  </tbody>\n",
       "</table>\n",
       "</div>"
      ],
      "text/plain": [
       "             obj_ID          alpha          delta              u  \\\n",
       "count  1.000000e+05  100000.000000  100000.000000  100000.000000   \n",
       "mean   1.237665e+18     177.629117      24.135305      21.980468   \n",
       "std    8.438560e+12      96.502241      19.644665      31.769291   \n",
       "min    1.237646e+18       0.005528     -18.785328   -9999.000000   \n",
       "25%    1.237659e+18     127.518222       5.146771      20.352353   \n",
       "50%    1.237663e+18     180.900700      23.645922      22.179135   \n",
       "75%    1.237668e+18     233.895005      39.901550      23.687440   \n",
       "max    1.237681e+18     359.999810      83.000519      32.781390   \n",
       "\n",
       "                   g              r              i              z  \\\n",
       "count  100000.000000  100000.000000  100000.000000  100000.000000   \n",
       "mean       20.531387      19.645762      19.084854      18.668810   \n",
       "std        31.750292       1.854760       1.757895      31.728152   \n",
       "min     -9999.000000       9.822070       9.469903   -9999.000000   \n",
       "25%        18.965230      18.135828      17.732285      17.460677   \n",
       "50%        21.099835      20.125290      19.405145      19.004595   \n",
       "75%        22.123767      21.044785      20.396495      19.921120   \n",
       "max        31.602240      29.571860      32.141470      29.383740   \n",
       "\n",
       "              run_ID  rerun_ID        cam_col       field_ID   spec_obj_ID  \\\n",
       "count  100000.000000  100000.0  100000.000000  100000.000000  1.000000e+05   \n",
       "mean     4481.366060     301.0       3.511610     186.130520  5.783882e+18   \n",
       "std      1964.764593       0.0       1.586912     149.011073  3.324016e+18   \n",
       "min       109.000000     301.0       1.000000      11.000000  2.995191e+17   \n",
       "25%      3187.000000     301.0       2.000000      82.000000  2.844138e+18   \n",
       "50%      4188.000000     301.0       4.000000     146.000000  5.614883e+18   \n",
       "75%      5326.000000     301.0       5.000000     241.000000  8.332144e+18   \n",
       "max      8162.000000     301.0       6.000000     989.000000  1.412694e+19   \n",
       "\n",
       "            redshift          plate            MJD       fiber_ID  \n",
       "count  100000.000000  100000.000000  100000.000000  100000.000000  \n",
       "mean        0.576661    5137.009660   55588.647500     449.312740  \n",
       "std         0.730707    2952.303351    1808.484233     272.498404  \n",
       "min        -0.009971     266.000000   51608.000000       1.000000  \n",
       "25%         0.054517    2526.000000   54234.000000     221.000000  \n",
       "50%         0.424173    4987.000000   55868.500000     433.000000  \n",
       "75%         0.704154    7400.250000   56777.000000     645.000000  \n",
       "max         7.011245   12547.000000   58932.000000    1000.000000  "
      ]
     },
     "execution_count": 5,
     "metadata": {},
     "output_type": "execute_result"
    }
   ],
   "source": [
    "#Describe the data\n",
    "df.describe()"
   ]
  },
  {
   "cell_type": "markdown",
   "id": "9115b512",
   "metadata": {},
   "source": [
    "##### Descriptive statistics"
   ]
  },
  {
   "cell_type": "code",
   "execution_count": 6,
   "id": "0b8aa5c8",
   "metadata": {},
   "outputs": [
    {
     "data": {
      "text/html": [
       "<div>\n",
       "<style scoped>\n",
       "    .dataframe tbody tr th:only-of-type {\n",
       "        vertical-align: middle;\n",
       "    }\n",
       "\n",
       "    .dataframe tbody tr th {\n",
       "        vertical-align: top;\n",
       "    }\n",
       "\n",
       "    .dataframe thead th {\n",
       "        text-align: right;\n",
       "    }\n",
       "</style>\n",
       "<table border=\"1\" class=\"dataframe\">\n",
       "  <thead>\n",
       "    <tr style=\"text-align: right;\">\n",
       "      <th></th>\n",
       "      <th>count</th>\n",
       "      <th>mean</th>\n",
       "      <th>std</th>\n",
       "      <th>min</th>\n",
       "      <th>25%</th>\n",
       "      <th>50%</th>\n",
       "      <th>75%</th>\n",
       "      <th>max</th>\n",
       "    </tr>\n",
       "  </thead>\n",
       "  <tbody>\n",
       "    <tr>\n",
       "      <th>obj_ID</th>\n",
       "      <td>100000.0</td>\n",
       "      <td>1.237665e+18</td>\n",
       "      <td>8.438560e+12</td>\n",
       "      <td>1.237646e+18</td>\n",
       "      <td>1.237659e+18</td>\n",
       "      <td>1.237663e+18</td>\n",
       "      <td>1.237668e+18</td>\n",
       "      <td>1.237681e+18</td>\n",
       "    </tr>\n",
       "    <tr>\n",
       "      <th>alpha</th>\n",
       "      <td>100000.0</td>\n",
       "      <td>1.776291e+02</td>\n",
       "      <td>9.650224e+01</td>\n",
       "      <td>5.527828e-03</td>\n",
       "      <td>1.275182e+02</td>\n",
       "      <td>1.809007e+02</td>\n",
       "      <td>2.338950e+02</td>\n",
       "      <td>3.599998e+02</td>\n",
       "    </tr>\n",
       "    <tr>\n",
       "      <th>delta</th>\n",
       "      <td>100000.0</td>\n",
       "      <td>2.413530e+01</td>\n",
       "      <td>1.964467e+01</td>\n",
       "      <td>-1.878533e+01</td>\n",
       "      <td>5.146771e+00</td>\n",
       "      <td>2.364592e+01</td>\n",
       "      <td>3.990155e+01</td>\n",
       "      <td>8.300052e+01</td>\n",
       "    </tr>\n",
       "    <tr>\n",
       "      <th>u</th>\n",
       "      <td>100000.0</td>\n",
       "      <td>2.198047e+01</td>\n",
       "      <td>3.176929e+01</td>\n",
       "      <td>-9.999000e+03</td>\n",
       "      <td>2.035235e+01</td>\n",
       "      <td>2.217914e+01</td>\n",
       "      <td>2.368744e+01</td>\n",
       "      <td>3.278139e+01</td>\n",
       "    </tr>\n",
       "    <tr>\n",
       "      <th>g</th>\n",
       "      <td>100000.0</td>\n",
       "      <td>2.053139e+01</td>\n",
       "      <td>3.175029e+01</td>\n",
       "      <td>-9.999000e+03</td>\n",
       "      <td>1.896523e+01</td>\n",
       "      <td>2.109983e+01</td>\n",
       "      <td>2.212377e+01</td>\n",
       "      <td>3.160224e+01</td>\n",
       "    </tr>\n",
       "    <tr>\n",
       "      <th>r</th>\n",
       "      <td>100000.0</td>\n",
       "      <td>1.964576e+01</td>\n",
       "      <td>1.854760e+00</td>\n",
       "      <td>9.822070e+00</td>\n",
       "      <td>1.813583e+01</td>\n",
       "      <td>2.012529e+01</td>\n",
       "      <td>2.104478e+01</td>\n",
       "      <td>2.957186e+01</td>\n",
       "    </tr>\n",
       "    <tr>\n",
       "      <th>i</th>\n",
       "      <td>100000.0</td>\n",
       "      <td>1.908485e+01</td>\n",
       "      <td>1.757895e+00</td>\n",
       "      <td>9.469903e+00</td>\n",
       "      <td>1.773228e+01</td>\n",
       "      <td>1.940514e+01</td>\n",
       "      <td>2.039650e+01</td>\n",
       "      <td>3.214147e+01</td>\n",
       "    </tr>\n",
       "    <tr>\n",
       "      <th>z</th>\n",
       "      <td>100000.0</td>\n",
       "      <td>1.866881e+01</td>\n",
       "      <td>3.172815e+01</td>\n",
       "      <td>-9.999000e+03</td>\n",
       "      <td>1.746068e+01</td>\n",
       "      <td>1.900460e+01</td>\n",
       "      <td>1.992112e+01</td>\n",
       "      <td>2.938374e+01</td>\n",
       "    </tr>\n",
       "    <tr>\n",
       "      <th>run_ID</th>\n",
       "      <td>100000.0</td>\n",
       "      <td>4.481366e+03</td>\n",
       "      <td>1.964765e+03</td>\n",
       "      <td>1.090000e+02</td>\n",
       "      <td>3.187000e+03</td>\n",
       "      <td>4.188000e+03</td>\n",
       "      <td>5.326000e+03</td>\n",
       "      <td>8.162000e+03</td>\n",
       "    </tr>\n",
       "    <tr>\n",
       "      <th>rerun_ID</th>\n",
       "      <td>100000.0</td>\n",
       "      <td>3.010000e+02</td>\n",
       "      <td>0.000000e+00</td>\n",
       "      <td>3.010000e+02</td>\n",
       "      <td>3.010000e+02</td>\n",
       "      <td>3.010000e+02</td>\n",
       "      <td>3.010000e+02</td>\n",
       "      <td>3.010000e+02</td>\n",
       "    </tr>\n",
       "    <tr>\n",
       "      <th>cam_col</th>\n",
       "      <td>100000.0</td>\n",
       "      <td>3.511610e+00</td>\n",
       "      <td>1.586912e+00</td>\n",
       "      <td>1.000000e+00</td>\n",
       "      <td>2.000000e+00</td>\n",
       "      <td>4.000000e+00</td>\n",
       "      <td>5.000000e+00</td>\n",
       "      <td>6.000000e+00</td>\n",
       "    </tr>\n",
       "    <tr>\n",
       "      <th>field_ID</th>\n",
       "      <td>100000.0</td>\n",
       "      <td>1.861305e+02</td>\n",
       "      <td>1.490111e+02</td>\n",
       "      <td>1.100000e+01</td>\n",
       "      <td>8.200000e+01</td>\n",
       "      <td>1.460000e+02</td>\n",
       "      <td>2.410000e+02</td>\n",
       "      <td>9.890000e+02</td>\n",
       "    </tr>\n",
       "    <tr>\n",
       "      <th>spec_obj_ID</th>\n",
       "      <td>100000.0</td>\n",
       "      <td>5.783882e+18</td>\n",
       "      <td>3.324016e+18</td>\n",
       "      <td>2.995191e+17</td>\n",
       "      <td>2.844138e+18</td>\n",
       "      <td>5.614883e+18</td>\n",
       "      <td>8.332144e+18</td>\n",
       "      <td>1.412694e+19</td>\n",
       "    </tr>\n",
       "    <tr>\n",
       "      <th>redshift</th>\n",
       "      <td>100000.0</td>\n",
       "      <td>5.766608e-01</td>\n",
       "      <td>7.307073e-01</td>\n",
       "      <td>-9.970667e-03</td>\n",
       "      <td>5.451684e-02</td>\n",
       "      <td>4.241733e-01</td>\n",
       "      <td>7.041543e-01</td>\n",
       "      <td>7.011245e+00</td>\n",
       "    </tr>\n",
       "    <tr>\n",
       "      <th>plate</th>\n",
       "      <td>100000.0</td>\n",
       "      <td>5.137010e+03</td>\n",
       "      <td>2.952303e+03</td>\n",
       "      <td>2.660000e+02</td>\n",
       "      <td>2.526000e+03</td>\n",
       "      <td>4.987000e+03</td>\n",
       "      <td>7.400250e+03</td>\n",
       "      <td>1.254700e+04</td>\n",
       "    </tr>\n",
       "    <tr>\n",
       "      <th>MJD</th>\n",
       "      <td>100000.0</td>\n",
       "      <td>5.558865e+04</td>\n",
       "      <td>1.808484e+03</td>\n",
       "      <td>5.160800e+04</td>\n",
       "      <td>5.423400e+04</td>\n",
       "      <td>5.586850e+04</td>\n",
       "      <td>5.677700e+04</td>\n",
       "      <td>5.893200e+04</td>\n",
       "    </tr>\n",
       "    <tr>\n",
       "      <th>fiber_ID</th>\n",
       "      <td>100000.0</td>\n",
       "      <td>4.493127e+02</td>\n",
       "      <td>2.724984e+02</td>\n",
       "      <td>1.000000e+00</td>\n",
       "      <td>2.210000e+02</td>\n",
       "      <td>4.330000e+02</td>\n",
       "      <td>6.450000e+02</td>\n",
       "      <td>1.000000e+03</td>\n",
       "    </tr>\n",
       "  </tbody>\n",
       "</table>\n",
       "</div>"
      ],
      "text/plain": [
       "                count          mean           std           min           25%  \\\n",
       "obj_ID       100000.0  1.237665e+18  8.438560e+12  1.237646e+18  1.237659e+18   \n",
       "alpha        100000.0  1.776291e+02  9.650224e+01  5.527828e-03  1.275182e+02   \n",
       "delta        100000.0  2.413530e+01  1.964467e+01 -1.878533e+01  5.146771e+00   \n",
       "u            100000.0  2.198047e+01  3.176929e+01 -9.999000e+03  2.035235e+01   \n",
       "g            100000.0  2.053139e+01  3.175029e+01 -9.999000e+03  1.896523e+01   \n",
       "r            100000.0  1.964576e+01  1.854760e+00  9.822070e+00  1.813583e+01   \n",
       "i            100000.0  1.908485e+01  1.757895e+00  9.469903e+00  1.773228e+01   \n",
       "z            100000.0  1.866881e+01  3.172815e+01 -9.999000e+03  1.746068e+01   \n",
       "run_ID       100000.0  4.481366e+03  1.964765e+03  1.090000e+02  3.187000e+03   \n",
       "rerun_ID     100000.0  3.010000e+02  0.000000e+00  3.010000e+02  3.010000e+02   \n",
       "cam_col      100000.0  3.511610e+00  1.586912e+00  1.000000e+00  2.000000e+00   \n",
       "field_ID     100000.0  1.861305e+02  1.490111e+02  1.100000e+01  8.200000e+01   \n",
       "spec_obj_ID  100000.0  5.783882e+18  3.324016e+18  2.995191e+17  2.844138e+18   \n",
       "redshift     100000.0  5.766608e-01  7.307073e-01 -9.970667e-03  5.451684e-02   \n",
       "plate        100000.0  5.137010e+03  2.952303e+03  2.660000e+02  2.526000e+03   \n",
       "MJD          100000.0  5.558865e+04  1.808484e+03  5.160800e+04  5.423400e+04   \n",
       "fiber_ID     100000.0  4.493127e+02  2.724984e+02  1.000000e+00  2.210000e+02   \n",
       "\n",
       "                      50%           75%           max  \n",
       "obj_ID       1.237663e+18  1.237668e+18  1.237681e+18  \n",
       "alpha        1.809007e+02  2.338950e+02  3.599998e+02  \n",
       "delta        2.364592e+01  3.990155e+01  8.300052e+01  \n",
       "u            2.217914e+01  2.368744e+01  3.278139e+01  \n",
       "g            2.109983e+01  2.212377e+01  3.160224e+01  \n",
       "r            2.012529e+01  2.104478e+01  2.957186e+01  \n",
       "i            1.940514e+01  2.039650e+01  3.214147e+01  \n",
       "z            1.900460e+01  1.992112e+01  2.938374e+01  \n",
       "run_ID       4.188000e+03  5.326000e+03  8.162000e+03  \n",
       "rerun_ID     3.010000e+02  3.010000e+02  3.010000e+02  \n",
       "cam_col      4.000000e+00  5.000000e+00  6.000000e+00  \n",
       "field_ID     1.460000e+02  2.410000e+02  9.890000e+02  \n",
       "spec_obj_ID  5.614883e+18  8.332144e+18  1.412694e+19  \n",
       "redshift     4.241733e-01  7.041543e-01  7.011245e+00  \n",
       "plate        4.987000e+03  7.400250e+03  1.254700e+04  \n",
       "MJD          5.586850e+04  5.677700e+04  5.893200e+04  \n",
       "fiber_ID     4.330000e+02  6.450000e+02  1.000000e+03  "
      ]
     },
     "execution_count": 6,
     "metadata": {},
     "output_type": "execute_result"
    }
   ],
   "source": [
    "#Describe the data\n",
    "df.describe().T"
   ]
  },
  {
   "cell_type": "code",
   "execution_count": 7,
   "id": "6fb109dd",
   "metadata": {},
   "outputs": [
    {
     "data": {
      "text/plain": [
       "(100000, 18)"
      ]
     },
     "execution_count": 7,
     "metadata": {},
     "output_type": "execute_result"
    }
   ],
   "source": [
    "# No. of rows & colomns\n",
    "df.shape"
   ]
  },
  {
   "cell_type": "code",
   "execution_count": 8,
   "id": "08dfc336",
   "metadata": {},
   "outputs": [
    {
     "data": {
      "text/plain": [
       "0"
      ]
     },
     "execution_count": 8,
     "metadata": {},
     "output_type": "execute_result"
    }
   ],
   "source": [
    "#Find the duplicates\n",
    "\n",
    "df.duplicated().sum()"
   ]
  },
  {
   "cell_type": "markdown",
   "id": "ded0b0aa",
   "metadata": {},
   "source": [
    "#### ‘0’ means, there is not a single duplicate value present in our dataset"
   ]
  },
  {
   "cell_type": "code",
   "execution_count": 9,
   "id": "f726c3e6",
   "metadata": {},
   "outputs": [
    {
     "data": {
      "text/plain": [
       "obj_ID         0\n",
       "alpha          0\n",
       "delta          0\n",
       "u              0\n",
       "g              0\n",
       "r              0\n",
       "i              0\n",
       "z              0\n",
       "run_ID         0\n",
       "rerun_ID       0\n",
       "cam_col        0\n",
       "field_ID       0\n",
       "spec_obj_ID    0\n",
       "class          0\n",
       "redshift       0\n",
       "plate          0\n",
       "MJD            0\n",
       "fiber_ID       0\n",
       "dtype: int64"
      ]
     },
     "execution_count": 9,
     "metadata": {},
     "output_type": "execute_result"
    }
   ],
   "source": [
    "#Find null values\n",
    "df.isna().sum()"
   ]
  },
  {
   "cell_type": "markdown",
   "id": "b299fe9a",
   "metadata": {},
   "source": [
    "#### No missing values detected in the dataset"
   ]
  },
  {
   "cell_type": "code",
   "execution_count": 10,
   "id": "d75b3a3d",
   "metadata": {},
   "outputs": [
    {
     "data": {
      "image/png": "[encoded data removed]",
      "text/plain": [
       "<Figure size 640x480 with 1 Axes>"
      ]
     },
     "metadata": {},
     "output_type": "display_data"
    }
   ],
   "source": [
    "plt.pie(df['class'].value_counts(),autopct=\"%1.1f%%\",labels=['GALAXY','STAR','QSO'])\n",
    "plt.legend();"
   ]
  },
  {
   "cell_type": "code",
   "execution_count": 11,
   "id": "9cc122a4",
   "metadata": {},
   "outputs": [
    {
     "data": {
      "text/plain": [
       "obj_ID         float64\n",
       "alpha          float64\n",
       "delta          float64\n",
       "u              float64\n",
       "g              float64\n",
       "r              float64\n",
       "i              float64\n",
       "z              float64\n",
       "run_ID           int64\n",
       "rerun_ID         int64\n",
       "cam_col          int64\n",
       "field_ID         int64\n",
       "spec_obj_ID    float64\n",
       "class           object\n",
       "redshift       float64\n",
       "plate            int64\n",
       "MJD              int64\n",
       "fiber_ID         int64\n",
       "dtype: object"
      ]
     },
     "execution_count": 11,
     "metadata": {},
     "output_type": "execute_result"
    }
   ],
   "source": [
    "#Datatypes\n",
    "df.dtypes"
   ]
  },
  {
   "cell_type": "code",
   "execution_count": 12,
   "id": "adbae134",
   "metadata": {},
   "outputs": [
    {
     "data": {
      "text/plain": [
       "Index(['obj_ID', 'alpha', 'delta', 'u', 'g', 'r', 'i', 'z', 'run_ID',\n",
       "       'rerun_ID', 'cam_col', 'field_ID', 'spec_obj_ID', 'class', 'redshift',\n",
       "       'plate', 'MJD', 'fiber_ID'],\n",
       "      dtype='object')"
      ]
     },
     "execution_count": 12,
     "metadata": {},
     "output_type": "execute_result"
    }
   ],
   "source": [
    "df.columns"
   ]
  },
  {
   "cell_type": "markdown",
   "id": "fa7c9ea2",
   "metadata": {},
   "source": [
    "### Categorical Feature Analysis"
   ]
  },
  {
   "cell_type": "code",
   "execution_count": 13,
   "id": "c09899a8",
   "metadata": {},
   "outputs": [
    {
     "data": {
      "text/plain": [
       "GALAXY    59445\n",
       "STAR      21594\n",
       "QSO       18961\n",
       "Name: class, dtype: int64"
      ]
     },
     "execution_count": 13,
     "metadata": {},
     "output_type": "execute_result"
    }
   ],
   "source": [
    "#Categorical Feature Analysis\n",
    "df['class'].value_counts()"
   ]
  },
  {
   "cell_type": "code",
   "execution_count": 14,
   "id": "5f944546",
   "metadata": {},
   "outputs": [
    {
     "data": {
      "image/png": "[encoded data removed]",
      "text/plain": [
       "<Figure size 640x480 with 1 Axes>"
      ]
     },
     "metadata": {},
     "output_type": "display_data"
    }
   ],
   "source": [
    "#Data distribtions for each class \n",
    "categorical_list = [\"class\"]\n",
    "df_categoric = df.loc[:, categorical_list]\n",
    "for i in categorical_list:\n",
    "    plt.figure()\n",
    "    sns.countplot(x = i, data = df_categoric,hue = \"class\")\n",
    "    plt.title('Data distribtions')"
   ]
  },
  {
   "cell_type": "markdown",
   "id": "77e994d8",
   "metadata": {},
   "source": [
    "#### We can observe from the class distribution above that the data is imbalanced."
   ]
  },
  {
   "cell_type": "code",
   "execution_count": 15,
   "id": "47638a59",
   "metadata": {},
   "outputs": [
    {
     "data": {
      "image/png": "[encoded data removed]",
      "text/plain": [
       "<Figure size 640x480 with 1 Axes>"
      ]
     },
     "metadata": {},
     "output_type": "display_data"
    }
   ],
   "source": [
    "#prpotion of the different classes\n",
    "plt.pie(df['class'].value_counts(),autopct=\"%1.1f%%\",labels=['GALAXY','STAR','QSO'])\n",
    "plt.legend();"
   ]
  },
  {
   "cell_type": "markdown",
   "id": "6ae6c76e",
   "metadata": {},
   "source": [
    "#### From the chart above we can see that majority class are Galaxies with 59%, then Stars with arround 22% and only 19% of data are classified as QSOs."
   ]
  },
  {
   "cell_type": "markdown",
   "id": "46a0363a",
   "metadata": {},
   "source": [
    "### Numerical Feature Analysis"
   ]
  },
  {
   "cell_type": "code",
   "execution_count": 16,
   "id": "a85376cc",
   "metadata": {},
   "outputs": [
    {
     "data": {
      "text/html": [
       "<div>\n",
       "<style scoped>\n",
       "    .dataframe tbody tr th:only-of-type {\n",
       "        vertical-align: middle;\n",
       "    }\n",
       "\n",
       "    .dataframe tbody tr th {\n",
       "        vertical-align: top;\n",
       "    }\n",
       "\n",
       "    .dataframe thead th {\n",
       "        text-align: right;\n",
       "    }\n",
       "</style>\n",
       "<table border=\"1\" class=\"dataframe\">\n",
       "  <thead>\n",
       "    <tr style=\"text-align: right;\">\n",
       "      <th></th>\n",
       "      <th>obj_ID</th>\n",
       "      <th>alpha</th>\n",
       "      <th>delta</th>\n",
       "      <th>u</th>\n",
       "      <th>g</th>\n",
       "      <th>r</th>\n",
       "      <th>i</th>\n",
       "      <th>z</th>\n",
       "      <th>run_ID</th>\n",
       "      <th>rerun_ID</th>\n",
       "      <th>cam_col</th>\n",
       "      <th>field_ID</th>\n",
       "      <th>spec_obj_ID</th>\n",
       "      <th>redshift</th>\n",
       "      <th>plate</th>\n",
       "      <th>MJD</th>\n",
       "      <th>fiber_ID</th>\n",
       "    </tr>\n",
       "  </thead>\n",
       "  <tbody>\n",
       "    <tr>\n",
       "      <th>0</th>\n",
       "      <td>1.237661e+18</td>\n",
       "      <td>135.689107</td>\n",
       "      <td>32.494632</td>\n",
       "      <td>23.87882</td>\n",
       "      <td>22.27530</td>\n",
       "      <td>20.39501</td>\n",
       "      <td>19.16573</td>\n",
       "      <td>18.79371</td>\n",
       "      <td>3606</td>\n",
       "      <td>301</td>\n",
       "      <td>2</td>\n",
       "      <td>79</td>\n",
       "      <td>6.543777e+18</td>\n",
       "      <td>0.634794</td>\n",
       "      <td>5812</td>\n",
       "      <td>56354</td>\n",
       "      <td>171</td>\n",
       "    </tr>\n",
       "    <tr>\n",
       "      <th>1</th>\n",
       "      <td>1.237665e+18</td>\n",
       "      <td>144.826101</td>\n",
       "      <td>31.274185</td>\n",
       "      <td>24.77759</td>\n",
       "      <td>22.83188</td>\n",
       "      <td>22.58444</td>\n",
       "      <td>21.16812</td>\n",
       "      <td>21.61427</td>\n",
       "      <td>4518</td>\n",
       "      <td>301</td>\n",
       "      <td>5</td>\n",
       "      <td>119</td>\n",
       "      <td>1.176014e+19</td>\n",
       "      <td>0.779136</td>\n",
       "      <td>10445</td>\n",
       "      <td>58158</td>\n",
       "      <td>427</td>\n",
       "    </tr>\n",
       "    <tr>\n",
       "      <th>2</th>\n",
       "      <td>1.237661e+18</td>\n",
       "      <td>142.188790</td>\n",
       "      <td>35.582444</td>\n",
       "      <td>25.26307</td>\n",
       "      <td>22.66389</td>\n",
       "      <td>20.60976</td>\n",
       "      <td>19.34857</td>\n",
       "      <td>18.94827</td>\n",
       "      <td>3606</td>\n",
       "      <td>301</td>\n",
       "      <td>2</td>\n",
       "      <td>120</td>\n",
       "      <td>5.152200e+18</td>\n",
       "      <td>0.644195</td>\n",
       "      <td>4576</td>\n",
       "      <td>55592</td>\n",
       "      <td>299</td>\n",
       "    </tr>\n",
       "    <tr>\n",
       "      <th>3</th>\n",
       "      <td>1.237663e+18</td>\n",
       "      <td>338.741038</td>\n",
       "      <td>-0.402828</td>\n",
       "      <td>22.13682</td>\n",
       "      <td>23.77656</td>\n",
       "      <td>21.61162</td>\n",
       "      <td>20.50454</td>\n",
       "      <td>19.25010</td>\n",
       "      <td>4192</td>\n",
       "      <td>301</td>\n",
       "      <td>3</td>\n",
       "      <td>214</td>\n",
       "      <td>1.030107e+19</td>\n",
       "      <td>0.932346</td>\n",
       "      <td>9149</td>\n",
       "      <td>58039</td>\n",
       "      <td>775</td>\n",
       "    </tr>\n",
       "    <tr>\n",
       "      <th>4</th>\n",
       "      <td>1.237680e+18</td>\n",
       "      <td>345.282593</td>\n",
       "      <td>21.183866</td>\n",
       "      <td>19.43718</td>\n",
       "      <td>17.58028</td>\n",
       "      <td>16.49747</td>\n",
       "      <td>15.97711</td>\n",
       "      <td>15.54461</td>\n",
       "      <td>8102</td>\n",
       "      <td>301</td>\n",
       "      <td>3</td>\n",
       "      <td>137</td>\n",
       "      <td>6.891865e+18</td>\n",
       "      <td>0.116123</td>\n",
       "      <td>6121</td>\n",
       "      <td>56187</td>\n",
       "      <td>842</td>\n",
       "    </tr>\n",
       "  </tbody>\n",
       "</table>\n",
       "</div>"
      ],
      "text/plain": [
       "         obj_ID       alpha      delta         u         g         r  \\\n",
       "0  1.237661e+18  135.689107  32.494632  23.87882  22.27530  20.39501   \n",
       "1  1.237665e+18  144.826101  31.274185  24.77759  22.83188  22.58444   \n",
       "2  1.237661e+18  142.188790  35.582444  25.26307  22.66389  20.60976   \n",
       "3  1.237663e+18  338.741038  -0.402828  22.13682  23.77656  21.61162   \n",
       "4  1.237680e+18  345.282593  21.183866  19.43718  17.58028  16.49747   \n",
       "\n",
       "          i         z  run_ID  rerun_ID  cam_col  field_ID   spec_obj_ID  \\\n",
       "0  19.16573  18.79371    3606       301        2        79  6.543777e+18   \n",
       "1  21.16812  21.61427    4518       301        5       119  1.176014e+19   \n",
       "2  19.34857  18.94827    3606       301        2       120  5.152200e+18   \n",
       "3  20.50454  19.25010    4192       301        3       214  1.030107e+19   \n",
       "4  15.97711  15.54461    8102       301        3       137  6.891865e+18   \n",
       "\n",
       "   redshift  plate    MJD  fiber_ID  \n",
       "0  0.634794   5812  56354       171  \n",
       "1  0.779136  10445  58158       427  \n",
       "2  0.644195   4576  55592       299  \n",
       "3  0.932346   9149  58039       775  \n",
       "4  0.116123   6121  56187       842  "
      ]
     },
     "execution_count": 16,
     "metadata": {},
     "output_type": "execute_result"
    }
   ],
   "source": [
    "# Numerical Feature Analysis - \n",
    "numeric_list = [\"obj_ID\", \"alpha\",\"delta\",\"u\",\"g\",\"r\",\"i\",\"z\",\"run_ID\",\"rerun_ID\",\"cam_col\",\"field_ID\",\"spec_obj_ID\",\"redshift\",\"plate\",\"MJD\",\"fiber_ID\"]\n",
    "df_numeric = df.loc[:, numeric_list]\n",
    "df_numeric.head()\n"
   ]
  },
  {
   "cell_type": "markdown",
   "id": "105bc9c1",
   "metadata": {},
   "source": [
    "#### Univariate Analysis - Redshift feature"
   ]
  },
  {
   "cell_type": "code",
   "execution_count": 17,
   "id": "958a0f2d",
   "metadata": {},
   "outputs": [
    {
     "data": {
      "image/png": "[encoded data removed]",
      "text/plain": [
       "<Figure size 1500x500 with 3 Axes>"
      ]
     },
     "metadata": {},
     "output_type": "display_data"
    }
   ],
   "source": [
    "#Redshift Demonstration - As the source moves away, the light loses energy and its frequency is decreased and it appears red. \n",
    "\n",
    "fig, axes = plt.subplots(nrows=1, ncols=3,figsize=(15, 5))\n",
    "ax = sns.histplot(df[df['class']=='STAR'].redshift,color='red', bins = 30, ax = axes[0], kde =True)\n",
    "ax.set_title('Star')\n",
    "ax = sns.histplot(df[df['class']=='GALAXY'].redshift,color='green' ,bins = 30, ax = axes[1], kde =True)\n",
    "ax.set_title('Galaxy')\n",
    "ax = sns.histplot(df[df['class']=='QSO'].redshift, bins = 30, ax = axes[2], kde =True)\n",
    "ax = ax.set_title('QSO')"
   ]
  },
  {
   "cell_type": "markdown",
   "id": "17b0e183",
   "metadata": {},
   "source": [
    "##### We can observe that there are differentiation in redshift values for each class\n",
    "* For Star we can see that the distribution looks like a normal distribution\n",
    "* For Galaxy we can see that the distribution bimodal distribution\n",
    "* For QSO we can see that the distribution right skewed distribution\n",
    "##### The histplot indicates that the majority of the observed stars are not as far away from Earth as galaxies or quasars. Therfor, from using only the'redshift' column, we can easily differentiate between the different classes."
   ]
  },
  {
   "cell_type": "markdown",
   "id": "2580b85f",
   "metadata": {},
   "source": [
    "#### Multivariate Analysis - Filter band u,g,r,i,z features"
   ]
  },
  {
   "cell_type": "code",
   "execution_count": 19,
   "id": "e67db9d1",
   "metadata": {},
   "outputs": [
    {
     "data": {
      "image/png": "[encoded data removed]",
      "text/plain": [
       "<Figure size 1500x500 with 6 Axes>"
      ]
     },
     "metadata": {},
     "output_type": "display_data"
    }
   ],
   "source": [
    "# In astronomy, a photometric system is a set of well-defined passbands (or optical filters), with a known sensitivity to incident radiation. \n",
    "# The sensitivity usually depends on the optical system, detectors and filters used.\n",
    "# Photometric systems are usually characterized according to the widths of their passbands which are used to capture the observations.\n",
    "fig, axes = plt.subplots(nrows=1, ncols=3,figsize=(15, 5))\n",
    "fig.set_dpi(100)\n",
    "ax = sns.heatmap(df[df['class']=='STAR'][['u', 'g', 'r', 'i', 'z']].corr(), ax = axes[0], cmap='coolwarm')\n",
    "ax.set_title('Star')\n",
    "ax = sns.heatmap(df[df['class']=='GALAXY'][['u', 'g', 'r', 'i', 'z']].corr(), ax = axes[1], cmap='coolwarm')\n",
    "ax.set_title('Galaxy')\n",
    "ax = sns.heatmap(df[df['class']=='QSO'][['u', 'g', 'r', 'i', 'z']].corr(), ax = axes[2], cmap='coolwarm')\n",
    "ax = ax.set_title('QSO')"
   ]
  },
  {
   "cell_type": "markdown",
   "id": "7b250111",
   "metadata": {},
   "source": [
    "##### We can see  the correlation is almost  the same for galaxy and QSO class...BUT the different with star class. \n",
    "##### We can tell that there are high correlations between the different bands. we can think that if one of the bands captures some object, the other bands also capture other object."
   ]
  },
  {
   "cell_type": "markdown",
   "id": "df58073c",
   "metadata": {},
   "source": [
    "### Detect Outliers"
   ]
  },
  {
   "cell_type": "code",
   "execution_count": 20,
   "id": "f0ed7451",
   "metadata": {},
   "outputs": [],
   "source": [
    "for x in ['redshift','u' ,'g','r' ,'i', 'z' ]:\n",
    "    q75,q25 = np.percentile(df.loc[:,x],[75,25])\n",
    "    intr_qr = q75-q25\n",
    "    max = q75+(1.5*intr_qr)\n",
    "    min = q25-(1.5*intr_qr)\n",
    "    df.loc[df[x] < min,x] = np.nan\n",
    "    df.loc[df[x] > max,x] = np.nan\n",
    "    df = df.dropna(axis = 0)"
   ]
  },
  {
   "cell_type": "code",
   "execution_count": 21,
   "id": "e3dd2cfa",
   "metadata": {},
   "outputs": [
    {
     "name": "stdout",
     "output_type": "stream",
     "text": [
      "<class 'pandas.core.frame.DataFrame'>\n",
      "Int64Index: 90635 entries, 0 to 99999\n",
      "Data columns (total 18 columns):\n",
      " #   Column       Non-Null Count  Dtype  \n",
      "---  ------       --------------  -----  \n",
      " 0   obj_ID       90635 non-null  float64\n",
      " 1   alpha        90635 non-null  float64\n",
      " 2   delta        90635 non-null  float64\n",
      " 3   u            90635 non-null  float64\n",
      " 4   g            90635 non-null  float64\n",
      " 5   r            90635 non-null  float64\n",
      " 6   i            90635 non-null  float64\n",
      " 7   z            90635 non-null  float64\n",
      " 8   run_ID       90635 non-null  int64  \n",
      " 9   rerun_ID     90635 non-null  int64  \n",
      " 10  cam_col      90635 non-null  int64  \n",
      " 11  field_ID     90635 non-null  int64  \n",
      " 12  spec_obj_ID  90635 non-null  float64\n",
      " 13  class        90635 non-null  object \n",
      " 14  redshift     90635 non-null  float64\n",
      " 15  plate        90635 non-null  int64  \n",
      " 16  MJD          90635 non-null  int64  \n",
      " 17  fiber_ID     90635 non-null  int64  \n",
      "dtypes: float64(10), int64(7), object(1)\n",
      "memory usage: 13.1+ MB\n"
     ]
    }
   ],
   "source": [
    "df.info()"
   ]
  },
  {
   "cell_type": "markdown",
   "id": "349a141b",
   "metadata": {},
   "source": [
    "#### We select the SMOTE technique to solve the data imbalanced."
   ]
  },
  {
   "cell_type": "code",
   "execution_count": 22,
   "id": "307b76c8",
   "metadata": {},
   "outputs": [],
   "source": [
    "# Encoding the categorical value of class \n",
    "df['class'] = df['class'].replace({'GALAXY': 0,\n",
    "                                   'STAR'  : 1,\n",
    "                                   'QSO'   : 2})"
   ]
  },
  {
   "cell_type": "code",
   "execution_count": 23,
   "id": "17adb931",
   "metadata": {},
   "outputs": [
    {
     "data": {
      "image/png": "[encoded data removed]",
      "text/plain": [
       "<Figure size 640x480 with 1 Axes>"
      ]
     },
     "metadata": {},
     "output_type": "display_data"
    }
   ],
   "source": [
    "#Data distribtions for each class \n",
    "categorical_list = [\"class\"]\n",
    "df_categoric = df.loc[:, categorical_list]\n",
    "for i in categorical_list:\n",
    "    plt.figure()\n",
    "    sns.countplot(x = i, data = df_categoric,hue = \"class\")\n",
    "    plt.title('Data distribtions')"
   ]
  },
  {
   "cell_type": "code",
   "execution_count": 24,
   "id": "feece02b",
   "metadata": {},
   "outputs": [],
   "source": [
    "# split the class from other features\n",
    "y = df[\"class\"]\n",
    "x = df.drop(\"class\", axis=1)"
   ]
  },
  {
   "cell_type": "code",
   "execution_count": 25,
   "id": "ab4b33d5",
   "metadata": {},
   "outputs": [
    {
     "name": "stdout",
     "output_type": "stream",
     "text": [
      "Original dataset shape Counter({0: 59150, 1: 21506, 2: 9979})\n",
      "Resampled dataset shape Counter({0: 59150, 2: 59150, 1: 59150})\n"
     ]
    }
   ],
   "source": [
    "# Applying SMOTE\n",
    "smote = SMOTE(random_state=10)\n",
    "print('Original dataset shape %s' % Counter(y))\n",
    "x, y = smote.fit_resample(x, y)\n",
    "print('Resampled dataset shape %s' % Counter(y))"
   ]
  },
  {
   "cell_type": "code",
   "execution_count": 28,
   "id": "4782afc0",
   "metadata": {},
   "outputs": [
    {
     "data": {
      "text/plain": [
       "0    59150\n",
       "2    59150\n",
       "1    59150\n",
       "Name: class, dtype: int64"
      ]
     },
     "execution_count": 28,
     "metadata": {},
     "output_type": "execute_result"
    }
   ],
   "source": [
    "# check the class \n",
    "y.value_counts()"
   ]
  },
  {
   "cell_type": "code",
   "execution_count": 26,
   "id": "50eb9f10",
   "metadata": {},
   "outputs": [],
   "source": [
    "# concatenate the features\n",
    "df_1=pd.concat([x,y],axis=1)"
   ]
  },
  {
   "cell_type": "code",
   "execution_count": 27,
   "id": "9e09b2fa",
   "metadata": {},
   "outputs": [
    {
     "data": {
      "image/png": "[encoded data removed]",
      "text/plain": [
       "<Figure size 640x480 with 1 Axes>"
      ]
     },
     "metadata": {},
     "output_type": "display_data"
    }
   ],
   "source": [
    "# Data distribtions for each class after balancing the data\n",
    "categorical_list = [\"class\"]\n",
    "df_categoric = df_1.loc[:, categorical_list]\n",
    "for i in categorical_list:\n",
    "    plt.figure()\n",
    "    sns.countplot(x = i, data = df_categoric,hue = \"class\")\n",
    "    plt.title('Data distribtions')"
   ]
  },
  {
   "cell_type": "code",
   "execution_count": null,
   "id": "5cb8ef66",
   "metadata": {},
   "outputs": [],
   "source": [
    "# saving the dataframe\n",
    "# df.to_csv(r'C:\\Users\\Mariam\\Desktop\\Balanced_star_classification.csv')"
   ]
  },
  {
   "cell_type": "markdown",
   "id": "dac6e630",
   "metadata": {},
   "source": [
    "### Splitting the dataset"
   ]
  },
  {
   "cell_type": "code",
   "execution_count": 29,
   "id": "43d988a8",
   "metadata": {},
   "outputs": [
    {
     "data": {
      "text/html": [
       "<div>\n",
       "<style scoped>\n",
       "    .dataframe tbody tr th:only-of-type {\n",
       "        vertical-align: middle;\n",
       "    }\n",
       "\n",
       "    .dataframe tbody tr th {\n",
       "        vertical-align: top;\n",
       "    }\n",
       "\n",
       "    .dataframe thead th {\n",
       "        text-align: right;\n",
       "    }\n",
       "</style>\n",
       "<table border=\"1\" class=\"dataframe\">\n",
       "  <thead>\n",
       "    <tr style=\"text-align: right;\">\n",
       "      <th></th>\n",
       "      <th>alpha</th>\n",
       "      <th>delta</th>\n",
       "      <th>u</th>\n",
       "      <th>g</th>\n",
       "      <th>r</th>\n",
       "      <th>i</th>\n",
       "      <th>z</th>\n",
       "      <th>redshift</th>\n",
       "      <th>plate</th>\n",
       "      <th>MJD</th>\n",
       "      <th>class</th>\n",
       "    </tr>\n",
       "  </thead>\n",
       "  <tbody>\n",
       "    <tr>\n",
       "      <th>0</th>\n",
       "      <td>135.689107</td>\n",
       "      <td>32.494632</td>\n",
       "      <td>23.87882</td>\n",
       "      <td>22.27530</td>\n",
       "      <td>20.39501</td>\n",
       "      <td>19.16573</td>\n",
       "      <td>18.79371</td>\n",
       "      <td>0.634794</td>\n",
       "      <td>5812</td>\n",
       "      <td>56354</td>\n",
       "      <td>0</td>\n",
       "    </tr>\n",
       "    <tr>\n",
       "      <th>1</th>\n",
       "      <td>144.826101</td>\n",
       "      <td>31.274185</td>\n",
       "      <td>24.77759</td>\n",
       "      <td>22.83188</td>\n",
       "      <td>22.58444</td>\n",
       "      <td>21.16812</td>\n",
       "      <td>21.61427</td>\n",
       "      <td>0.779136</td>\n",
       "      <td>10445</td>\n",
       "      <td>58158</td>\n",
       "      <td>0</td>\n",
       "    </tr>\n",
       "    <tr>\n",
       "      <th>2</th>\n",
       "      <td>142.188790</td>\n",
       "      <td>35.582444</td>\n",
       "      <td>25.26307</td>\n",
       "      <td>22.66389</td>\n",
       "      <td>20.60976</td>\n",
       "      <td>19.34857</td>\n",
       "      <td>18.94827</td>\n",
       "      <td>0.644195</td>\n",
       "      <td>4576</td>\n",
       "      <td>55592</td>\n",
       "      <td>0</td>\n",
       "    </tr>\n",
       "    <tr>\n",
       "      <th>3</th>\n",
       "      <td>338.741038</td>\n",
       "      <td>-0.402828</td>\n",
       "      <td>22.13682</td>\n",
       "      <td>23.77656</td>\n",
       "      <td>21.61162</td>\n",
       "      <td>20.50454</td>\n",
       "      <td>19.25010</td>\n",
       "      <td>0.932346</td>\n",
       "      <td>9149</td>\n",
       "      <td>58039</td>\n",
       "      <td>0</td>\n",
       "    </tr>\n",
       "    <tr>\n",
       "      <th>4</th>\n",
       "      <td>345.282593</td>\n",
       "      <td>21.183866</td>\n",
       "      <td>19.43718</td>\n",
       "      <td>17.58028</td>\n",
       "      <td>16.49747</td>\n",
       "      <td>15.97711</td>\n",
       "      <td>15.54461</td>\n",
       "      <td>0.116123</td>\n",
       "      <td>6121</td>\n",
       "      <td>56187</td>\n",
       "      <td>0</td>\n",
       "    </tr>\n",
       "  </tbody>\n",
       "</table>\n",
       "</div>"
      ],
      "text/plain": [
       "        alpha      delta         u         g         r         i         z  \\\n",
       "0  135.689107  32.494632  23.87882  22.27530  20.39501  19.16573  18.79371   \n",
       "1  144.826101  31.274185  24.77759  22.83188  22.58444  21.16812  21.61427   \n",
       "2  142.188790  35.582444  25.26307  22.66389  20.60976  19.34857  18.94827   \n",
       "3  338.741038  -0.402828  22.13682  23.77656  21.61162  20.50454  19.25010   \n",
       "4  345.282593  21.183866  19.43718  17.58028  16.49747  15.97711  15.54461   \n",
       "\n",
       "   redshift  plate    MJD  class  \n",
       "0  0.634794   5812  56354      0  \n",
       "1  0.779136  10445  58158      0  \n",
       "2  0.644195   4576  55592      0  \n",
       "3  0.932346   9149  58039      0  \n",
       "4  0.116123   6121  56187      0  "
      ]
     },
     "execution_count": 29,
     "metadata": {},
     "output_type": "execute_result"
    }
   ],
   "source": [
    "x = df_1.drop(['obj_ID','run_ID','rerun_ID','cam_col','field_ID','spec_obj_ID','fiber_ID'],axis=1,inplace=True)\n",
    "#View the data\n",
    "df_1.head()"
   ]
  },
  {
   "cell_type": "code",
   "execution_count": null,
   "id": "c51a86f2",
   "metadata": {},
   "outputs": [],
   "source": [
    "x = df_1.drop(['class'], axis=1)\n",
    "y = df_1['class']\n",
    "x_train , x_test, y_train, y_test = train_test_split(x, y, test_size=0.2, random_state=2022)"
   ]
  },
  {
   "cell_type": "markdown",
   "id": "5cb23422",
   "metadata": {},
   "source": [
    "### Normalizing approach"
   ]
  },
  {
   "cell_type": "code",
   "execution_count": null,
   "id": "7a117d12",
   "metadata": {},
   "outputs": [],
   "source": [
    "scaler = StandardScaler()\n",
    "scaler.fit(x_train)\n",
    "x_train = pd.DataFrame(scaler.transform(x_train), columns=x_train.columns)\n",
    "x_test = pd.DataFrame(scaler.transform(x_test), columns=x_test.columns)"
   ]
  }
 ],
 "metadata": {
  "kernelspec": {
   "display_name": "Python 3.11.0 64-bit",
   "language": "python",
   "name": "python3"
  },
  "language_info": {
   "codemirror_mode": {
    "name": "ipython",
    "version": 3
   },
   "file_extension": ".py",
   "mimetype": "text/x-python",
   "name": "python",
   "nbconvert_exporter": "python",
   "pygments_lexer": "ipython3",
   "version": "3.11.0"
  },
  "vscode": {
   "interpreter": {
    "hash": "12e4b69d4dc8870276ab6432fb9b2308180edf96cb6aa22e355bea3fd3886cd5"
   }
  }
 },
 "nbformat": 4,
 "nbformat_minor": 5
}
