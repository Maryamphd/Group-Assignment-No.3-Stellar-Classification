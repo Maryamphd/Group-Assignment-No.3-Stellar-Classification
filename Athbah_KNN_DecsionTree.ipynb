{
  "nbformat": 4,
  "nbformat_minor": 0,
  "metadata": {
    "colab": {
      "provenance": [],
      "collapsed_sections": [
        "XpUmZa9cjsQi",
        "1kZDg5g8jyW9",
        "tG0PFpwgj2-r",
        "42MEeJWosaec"
      ]
    },
    "kernelspec": {
      "name": "python3",
      "display_name": "Python 3"
    },
    "language_info": {
      "name": "python"
    }
  },
  "cells": [
    {
      "cell_type": "markdown",
      "source": [
        "# **Import Libraries**"
      ],
      "metadata": {
        "id": "XpUmZa9cjsQi"
      }
    },
    {
      "cell_type": "code",
      "execution_count": 1,
      "metadata": {
        "id": "Gp3M2RW_TIE_"
      },
      "outputs": [],
      "source": [
        "import pandas as pd\n",
        "import numpy as np\n",
        "import matplotlib.pyplot as plt\n",
        "import seaborn as sns\n",
        "%matplotlib inline\n",
        "\n",
        "from sklearn import datasets\n",
        "from sklearn.model_selection import train_test_split\n",
        "from sklearn.ensemble import RandomForestClassifier\n",
        "from sklearn.datasets import make_classification\n",
        "\n",
        "from sklearn.metrics import classification_report,confusion_matrix\n",
        "\n",
        "from sklearn.metrics import accuracy_score\n",
        "\n",
        "import tensorflow as tf\n",
        "from sklearn.preprocessing import StandardScaler"
      ]
    },
    {
      "cell_type": "markdown",
      "source": [
        "# **Mount Drive**"
      ],
      "metadata": {
        "id": "1kZDg5g8jyW9"
      }
    },
    {
      "cell_type": "code",
      "source": [
        "from google.colab import drive\n",
        "drive.mount(\"/content/drive\")"
      ],
      "metadata": {
        "colab": {
          "base_uri": "https://localhost:8080/"
        },
        "id": "EFU2GY8STgU4",
        "outputId": "ee490aa7-2072-4037-c543-50f95003d625"
      },
      "execution_count": 2,
      "outputs": [
        {
          "output_type": "stream",
          "name": "stdout",
          "text": [
            "Mounted at /content/drive\n"
          ]
        }
      ]
    },
    {
      "cell_type": "markdown",
      "source": [
        "# **Read Dataset**"
      ],
      "metadata": {
        "id": "tG0PFpwgj2-r"
      }
    },
    {
      "cell_type": "code",
      "source": [
        "stellar = pd.read_csv(\"/content/drive/MyDrive/modified_star_classification.csv\")"
      ],
      "metadata": {
        "id": "aRW1SHrOTMmw"
      },
      "execution_count": 3,
      "outputs": []
    },
    {
      "cell_type": "code",
      "source": [
        "stellar.head()"
      ],
      "metadata": {
        "colab": {
          "base_uri": "https://localhost:8080/",
          "height": 206
        },
        "id": "enZzcJhzUQvz",
        "outputId": "30d52778-f0c9-4d5d-f1d8-cb71a5142e94"
      },
      "execution_count": 4,
      "outputs": [
        {
          "output_type": "execute_result",
          "data": {
            "text/plain": [
              "   Unnamed: 0  Unnamed: 0.1       alpha      delta         u         g  \\\n",
              "0           0             0  135.689107  32.494632  23.87882  22.27530   \n",
              "1           1             1  144.826101  31.274185  24.77759  22.83188   \n",
              "2           2             2  142.188790  35.582444  25.26307  22.66389   \n",
              "3           3             3  338.741038  -0.402828  22.13682  23.77656   \n",
              "4           4             4  345.282593  21.183866  19.43718  17.58028   \n",
              "\n",
              "          r         i         z  class  redshift  plate    MJD  \n",
              "0  20.39501  19.16573  18.79371      0  0.634794   5812  56354  \n",
              "1  22.58444  21.16812  21.61427      0  0.779136  10445  58158  \n",
              "2  20.60976  19.34857  18.94827      0  0.644195   4576  55592  \n",
              "3  21.61162  20.50454  19.25010      0  0.932346   9149  58039  \n",
              "4  16.49747  15.97711  15.54461      0  0.116123   6121  56187  "
            ],
            "text/html": [
              "\n",
              "  <div id=\"df-2a31da45-f4ce-4504-b147-e38fa68bfc7a\">\n",
              "    <div class=\"colab-df-container\">\n",
              "      <div>\n",
              "<style scoped>\n",
              "    .dataframe tbody tr th:only-of-type {\n",
              "        vertical-align: middle;\n",
              "    }\n",
              "\n",
              "    .dataframe tbody tr th {\n",
              "        vertical-align: top;\n",
              "    }\n",
              "\n",
              "    .dataframe thead th {\n",
              "        text-align: right;\n",
              "    }\n",
              "</style>\n",
              "<table border=\"1\" class=\"dataframe\">\n",
              "  <thead>\n",
              "    <tr style=\"text-align: right;\">\n",
              "      <th></th>\n",
              "      <th>Unnamed: 0</th>\n",
              "      <th>Unnamed: 0.1</th>\n",
              "      <th>alpha</th>\n",
              "      <th>delta</th>\n",
              "      <th>u</th>\n",
              "      <th>g</th>\n",
              "      <th>r</th>\n",
              "      <th>i</th>\n",
              "      <th>z</th>\n",
              "      <th>class</th>\n",
              "      <th>redshift</th>\n",
              "      <th>plate</th>\n",
              "      <th>MJD</th>\n",
              "    </tr>\n",
              "  </thead>\n",
              "  <tbody>\n",
              "    <tr>\n",
              "      <th>0</th>\n",
              "      <td>0</td>\n",
              "      <td>0</td>\n",
              "      <td>135.689107</td>\n",
              "      <td>32.494632</td>\n",
              "      <td>23.87882</td>\n",
              "      <td>22.27530</td>\n",
              "      <td>20.39501</td>\n",
              "      <td>19.16573</td>\n",
              "      <td>18.79371</td>\n",
              "      <td>0</td>\n",
              "      <td>0.634794</td>\n",
              "      <td>5812</td>\n",
              "      <td>56354</td>\n",
              "    </tr>\n",
              "    <tr>\n",
              "      <th>1</th>\n",
              "      <td>1</td>\n",
              "      <td>1</td>\n",
              "      <td>144.826101</td>\n",
              "      <td>31.274185</td>\n",
              "      <td>24.77759</td>\n",
              "      <td>22.83188</td>\n",
              "      <td>22.58444</td>\n",
              "      <td>21.16812</td>\n",
              "      <td>21.61427</td>\n",
              "      <td>0</td>\n",
              "      <td>0.779136</td>\n",
              "      <td>10445</td>\n",
              "      <td>58158</td>\n",
              "    </tr>\n",
              "    <tr>\n",
              "      <th>2</th>\n",
              "      <td>2</td>\n",
              "      <td>2</td>\n",
              "      <td>142.188790</td>\n",
              "      <td>35.582444</td>\n",
              "      <td>25.26307</td>\n",
              "      <td>22.66389</td>\n",
              "      <td>20.60976</td>\n",
              "      <td>19.34857</td>\n",
              "      <td>18.94827</td>\n",
              "      <td>0</td>\n",
              "      <td>0.644195</td>\n",
              "      <td>4576</td>\n",
              "      <td>55592</td>\n",
              "    </tr>\n",
              "    <tr>\n",
              "      <th>3</th>\n",
              "      <td>3</td>\n",
              "      <td>3</td>\n",
              "      <td>338.741038</td>\n",
              "      <td>-0.402828</td>\n",
              "      <td>22.13682</td>\n",
              "      <td>23.77656</td>\n",
              "      <td>21.61162</td>\n",
              "      <td>20.50454</td>\n",
              "      <td>19.25010</td>\n",
              "      <td>0</td>\n",
              "      <td>0.932346</td>\n",
              "      <td>9149</td>\n",
              "      <td>58039</td>\n",
              "    </tr>\n",
              "    <tr>\n",
              "      <th>4</th>\n",
              "      <td>4</td>\n",
              "      <td>4</td>\n",
              "      <td>345.282593</td>\n",
              "      <td>21.183866</td>\n",
              "      <td>19.43718</td>\n",
              "      <td>17.58028</td>\n",
              "      <td>16.49747</td>\n",
              "      <td>15.97711</td>\n",
              "      <td>15.54461</td>\n",
              "      <td>0</td>\n",
              "      <td>0.116123</td>\n",
              "      <td>6121</td>\n",
              "      <td>56187</td>\n",
              "    </tr>\n",
              "  </tbody>\n",
              "</table>\n",
              "</div>\n",
              "      <button class=\"colab-df-convert\" onclick=\"convertToInteractive('df-2a31da45-f4ce-4504-b147-e38fa68bfc7a')\"\n",
              "              title=\"Convert this dataframe to an interactive table.\"\n",
              "              style=\"display:none;\">\n",
              "        \n",
              "  <svg xmlns=\"http://www.w3.org/2000/svg\" height=\"24px\"viewBox=\"0 0 24 24\"\n",
              "       width=\"24px\">\n",
              "    <path d=\"M0 0h24v24H0V0z\" fill=\"none\"/>\n",
              "    <path d=\"M18.56 5.44l.94 2.06.94-2.06 2.06-.94-2.06-.94-.94-2.06-.94 2.06-2.06.94zm-11 1L8.5 8.5l.94-2.06 2.06-.94-2.06-.94L8.5 2.5l-.94 2.06-2.06.94zm10 10l.94 2.06.94-2.06 2.06-.94-2.06-.94-.94-2.06-.94 2.06-2.06.94z\"/><path d=\"M17.41 7.96l-1.37-1.37c-.4-.4-.92-.59-1.43-.59-.52 0-1.04.2-1.43.59L10.3 9.45l-7.72 7.72c-.78.78-.78 2.05 0 2.83L4 21.41c.39.39.9.59 1.41.59.51 0 1.02-.2 1.41-.59l7.78-7.78 2.81-2.81c.8-.78.8-2.07 0-2.86zM5.41 20L4 18.59l7.72-7.72 1.47 1.35L5.41 20z\"/>\n",
              "  </svg>\n",
              "      </button>\n",
              "      \n",
              "  <style>\n",
              "    .colab-df-container {\n",
              "      display:flex;\n",
              "      flex-wrap:wrap;\n",
              "      gap: 12px;\n",
              "    }\n",
              "\n",
              "    .colab-df-convert {\n",
              "      background-color: #E8F0FE;\n",
              "      border: none;\n",
              "      border-radius: 50%;\n",
              "      cursor: pointer;\n",
              "      display: none;\n",
              "      fill: #1967D2;\n",
              "      height: 32px;\n",
              "      padding: 0 0 0 0;\n",
              "      width: 32px;\n",
              "    }\n",
              "\n",
              "    .colab-df-convert:hover {\n",
              "      background-color: #E2EBFA;\n",
              "      box-shadow: 0px 1px 2px rgba(60, 64, 67, 0.3), 0px 1px 3px 1px rgba(60, 64, 67, 0.15);\n",
              "      fill: #174EA6;\n",
              "    }\n",
              "\n",
              "    [theme=dark] .colab-df-convert {\n",
              "      background-color: #3B4455;\n",
              "      fill: #D2E3FC;\n",
              "    }\n",
              "\n",
              "    [theme=dark] .colab-df-convert:hover {\n",
              "      background-color: #434B5C;\n",
              "      box-shadow: 0px 1px 3px 1px rgba(0, 0, 0, 0.15);\n",
              "      filter: drop-shadow(0px 1px 2px rgba(0, 0, 0, 0.3));\n",
              "      fill: #FFFFFF;\n",
              "    }\n",
              "  </style>\n",
              "\n",
              "      <script>\n",
              "        const buttonEl =\n",
              "          document.querySelector('#df-2a31da45-f4ce-4504-b147-e38fa68bfc7a button.colab-df-convert');\n",
              "        buttonEl.style.display =\n",
              "          google.colab.kernel.accessAllowed ? 'block' : 'none';\n",
              "\n",
              "        async function convertToInteractive(key) {\n",
              "          const element = document.querySelector('#df-2a31da45-f4ce-4504-b147-e38fa68bfc7a');\n",
              "          const dataTable =\n",
              "            await google.colab.kernel.invokeFunction('convertToInteractive',\n",
              "                                                     [key], {});\n",
              "          if (!dataTable) return;\n",
              "\n",
              "          const docLinkHtml = 'Like what you see? Visit the ' +\n",
              "            '<a target=\"_blank\" href=https://colab.research.google.com/notebooks/data_table.ipynb>data table notebook</a>'\n",
              "            + ' to learn more about interactive tables.';\n",
              "          element.innerHTML = '';\n",
              "          dataTable['output_type'] = 'display_data';\n",
              "          await google.colab.output.renderOutput(dataTable, element);\n",
              "          const docLink = document.createElement('div');\n",
              "          docLink.innerHTML = docLinkHtml;\n",
              "          element.appendChild(docLink);\n",
              "        }\n",
              "      </script>\n",
              "    </div>\n",
              "  </div>\n",
              "  "
            ]
          },
          "metadata": {},
          "execution_count": 4
        }
      ]
    },
    {
      "cell_type": "code",
      "source": [
        "stellar.drop(['Unnamed: 0', 'Unnamed: 0.1'], axis=1, inplace=True)"
      ],
      "metadata": {
        "id": "U63qaJQzr-zx"
      },
      "execution_count": 6,
      "outputs": []
    },
    {
      "cell_type": "code",
      "source": [
        "stellar.shape"
      ],
      "metadata": {
        "colab": {
          "base_uri": "https://localhost:8080/"
        },
        "id": "zMppZLBgsAlx",
        "outputId": "2d33d856-6bfa-4510-fa24-6f9de1956ce4"
      },
      "execution_count": 7,
      "outputs": [
        {
          "output_type": "execute_result",
          "data": {
            "text/plain": [
              "(90635, 11)"
            ]
          },
          "metadata": {},
          "execution_count": 7
        }
      ]
    },
    {
      "cell_type": "markdown",
      "source": [
        "# **Train_Test_Split**"
      ],
      "metadata": {
        "id": "42MEeJWosaec"
      }
    },
    {
      "cell_type": "code",
      "source": [
        "x = stellar.drop(['class'], axis=1)\n",
        "y = stellar['class']"
      ],
      "metadata": {
        "id": "W9A0-HJzaOJk"
      },
      "execution_count": 8,
      "outputs": []
    },
    {
      "cell_type": "code",
      "source": [
        "x_train , x_test, y_train, y_test = train_test_split(x, y, test_size=0.2, random_state=2022)"
      ],
      "metadata": {
        "id": "ZZrXir7yliwb"
      },
      "execution_count": 9,
      "outputs": []
    },
    {
      "cell_type": "code",
      "source": [
        "print(x_train.shape,y_train.shape)\n",
        "print(x_test.shape,y_test.shape)"
      ],
      "metadata": {
        "colab": {
          "base_uri": "https://localhost:8080/"
        },
        "id": "iwRiTAFmaWMl",
        "outputId": "c3ad1e21-2c2c-4df3-ba92-6622c150a37d"
      },
      "execution_count": 10,
      "outputs": [
        {
          "output_type": "stream",
          "name": "stdout",
          "text": [
            "(72508, 10) (72508,)\n",
            "(18127, 10) (18127,)\n"
          ]
        }
      ]
    },
    {
      "cell_type": "code",
      "source": [
        "# Normalizing approach\n",
        "scaler = StandardScaler()\n",
        "scaler.fit(x_train)\n",
        "\n",
        "x_train = pd.DataFrame(scaler.transform(x_train), columns=x_train.columns)\n",
        "x_test = pd.DataFrame(scaler.transform(x_test), columns=x_test.columns)"
      ],
      "metadata": {
        "id": "8JiSJkC9U6mN"
      },
      "execution_count": 11,
      "outputs": []
    },
    {
      "cell_type": "markdown",
      "source": [
        "# **ML**"
      ],
      "metadata": {
        "id": "rbDJPXoIkJlc"
      }
    },
    {
      "cell_type": "markdown",
      "source": [
        "### **1. KNN**\n"
      ],
      "metadata": {
        "id": "S9IlywpSvn0A"
      }
    },
    {
      "cell_type": "code",
      "source": [
        "from sklearn.neighbors import KNeighborsClassifier\n",
        "\n",
        "knn = KNeighborsClassifier()\n",
        "knn.fit(x_train, y_train)\n",
        "knn_predictions = knn.predict(x_test)"
      ],
      "metadata": {
        "id": "NEFLF0yi7-iP"
      },
      "execution_count": 44,
      "outputs": []
    },
    {
      "cell_type": "code",
      "source": [
        "print(accuracy_score(y_test, knn_predictions))"
      ],
      "metadata": {
        "colab": {
          "base_uri": "https://localhost:8080/"
        },
        "id": "wpbu1XFy8t6s",
        "outputId": "c11729d4-78ea-48d2-b563-3633f97bbda4"
      },
      "execution_count": 45,
      "outputs": [
        {
          "output_type": "stream",
          "name": "stdout",
          "text": [
            "0.9502399735201633\n"
          ]
        }
      ]
    },
    {
      "cell_type": "code",
      "source": [
        "print(classification_report(y_test, knn_predictions))"
      ],
      "metadata": {
        "colab": {
          "base_uri": "https://localhost:8080/"
        },
        "id": "gC_gzifY9Csc",
        "outputId": "0a5215cc-ed82-4bab-d362-ae0cfaa44ef1"
      },
      "execution_count": 46,
      "outputs": [
        {
          "output_type": "stream",
          "name": "stdout",
          "text": [
            "              precision    recall  f1-score   support\n",
            "\n",
            "           0       0.96      0.97      0.96     11878\n",
            "           1       0.94      0.95      0.95      4251\n",
            "           2       0.92      0.85      0.88      1998\n",
            "\n",
            "    accuracy                           0.95     18127\n",
            "   macro avg       0.94      0.92      0.93     18127\n",
            "weighted avg       0.95      0.95      0.95     18127\n",
            "\n"
          ]
        }
      ]
    },
    {
      "cell_type": "code",
      "source": [
        "print(confusion_matrix(y_test, knn_predictions))"
      ],
      "metadata": {
        "colab": {
          "base_uri": "https://localhost:8080/"
        },
        "id": "0mugdA5b9Dsu",
        "outputId": "9b2863dd-fd03-4bda-e6ef-9598cf6e90f1"
      },
      "execution_count": 47,
      "outputs": [
        {
          "output_type": "stream",
          "name": "stdout",
          "text": [
            "[[11476   257   145]\n",
            " [  196  4055     0]\n",
            " [  286    18  1694]]\n"
          ]
        }
      ]
    },
    {
      "cell_type": "code",
      "source": [
        "#Creating a confusion matrix to visualize classification results.\n",
        "cm = confusion_matrix(y_test,knn_predictions)\n",
        "\n",
        "ax= plt.subplot()\n",
        "sns.heatmap(cm, annot=True, fmt='g', ax=ax);\n",
        "ax.set_xlabel('Predicted labels');\n",
        "ax.set_ylabel('True labels'); \n",
        "ax.set_title('Confusion Matrix'); \n",
        "ax.xaxis.set_ticklabels(['Galaxy', 'Quasar','Star']); ax.yaxis.set_ticklabels(['Galaxy', 'Quasar','Star']);"
      ],
      "metadata": {
        "colab": {
          "base_uri": "https://localhost:8080/",
          "height": 295
        },
        "id": "VnuPCmyLubrc",
        "outputId": "33a900c0-92ac-4948-b69d-c9179dfbee08"
      },
      "execution_count": 48,
      "outputs": [
        {
          "output_type": "display_data",
          "data": {
            "text/plain": [
              "<Figure size 432x288 with 2 Axes>"
            ],
            "image/png": "[encoded data removed]"
          },
          "metadata": {
            "needs_background": "light"
          }
        }
      ]
    },
    {
      "cell_type": "markdown",
      "source": [
        "### **2. Decsion Tree**"
      ],
      "metadata": {
        "id": "scnN_n-ErMGB"
      }
    },
    {
      "cell_type": "code",
      "source": [
        "from sklearn.tree import DecisionTreeClassifier, plot_tree\n",
        "dtc = DecisionTreeClassifier()\n",
        "dtc.fit(x_train, y_train)\n",
        "dtc_predictions = dtc.predict(x_test)"
      ],
      "metadata": {
        "id": "e28eJ2nA9ak3"
      },
      "execution_count": 32,
      "outputs": []
    },
    {
      "cell_type": "code",
      "source": [
        "print(accuracy_score(y_test, dtc_predictions))"
      ],
      "metadata": {
        "colab": {
          "base_uri": "https://localhost:8080/"
        },
        "id": "JWswsSn5-tS9",
        "outputId": "a4e80181-35b8-4345-dc70-7f2b815a31a1"
      },
      "execution_count": 33,
      "outputs": [
        {
          "output_type": "stream",
          "name": "stdout",
          "text": [
            "0.9618249020797706\n"
          ]
        }
      ]
    },
    {
      "cell_type": "code",
      "source": [
        "print(classification_report(y_test, dtc_predictions))"
      ],
      "metadata": {
        "colab": {
          "base_uri": "https://localhost:8080/"
        },
        "id": "1cGi-kcp-uVp",
        "outputId": "8a4b2cba-2ab2-4f58-e534-106fa75ee054"
      },
      "execution_count": 34,
      "outputs": [
        {
          "output_type": "stream",
          "name": "stdout",
          "text": [
            "              precision    recall  f1-score   support\n",
            "\n",
            "           0       0.97      0.97      0.97     11878\n",
            "           1       1.00      1.00      1.00      4251\n",
            "           2       0.83      0.85      0.84      1998\n",
            "\n",
            "    accuracy                           0.96     18127\n",
            "   macro avg       0.93      0.94      0.93     18127\n",
            "weighted avg       0.96      0.96      0.96     18127\n",
            "\n"
          ]
        }
      ]
    },
    {
      "cell_type": "code",
      "source": [
        "print(confusion_matrix(y_test, dtc_predictions))"
      ],
      "metadata": {
        "colab": {
          "base_uri": "https://localhost:8080/"
        },
        "id": "55VvU9VB-vQG",
        "outputId": "48393675-096a-49ee-bc47-c8357d9fbafd"
      },
      "execution_count": 35,
      "outputs": [
        {
          "output_type": "stream",
          "name": "stdout",
          "text": [
            "[[11510    19   349]\n",
            " [   20  4231     0]\n",
            " [  303     1  1694]]\n"
          ]
        }
      ]
    },
    {
      "cell_type": "code",
      "source": [
        "#Creating a confusion matrix to visualize classification results.\n",
        "cm = confusion_matrix(y_test,dtc_predictions)\n",
        "\n",
        "ax= plt.subplot()\n",
        "sns.heatmap(cm, annot=True, fmt='g', ax=ax);\n",
        "ax.set_xlabel('Predicted labels');\n",
        "ax.set_ylabel('True labels'); \n",
        "ax.set_title('Confusion Matrix'); \n",
        "ax.xaxis.set_ticklabels(['Galaxy', 'Quasar','Star']); ax.yaxis.set_ticklabels(['Galaxy', 'Quasar','Star']);"
      ],
      "metadata": {
        "colab": {
          "base_uri": "https://localhost:8080/",
          "height": 295
        },
        "id": "kYz-oKjoutxx",
        "outputId": "c6e4b8e5-fbcf-434f-be70-5ed15d5bbbb1"
      },
      "execution_count": 36,
      "outputs": [
        {
          "output_type": "display_data",
          "data": {
            "text/plain": [
              "<Figure size 432x288 with 2 Axes>"
            ],
            "image/png": "[encoded data removed]"
          },
          "metadata": {
            "needs_background": "light"
          }
        }
      ]
    },
    {
      "cell_type": "markdown",
      "source": [
        "# **GridSearch**"
      ],
      "metadata": {
        "id": "25PKiH9gTWxg"
      }
    },
    {
      "cell_type": "markdown",
      "source": [
        "### **KNN**"
      ],
      "metadata": {
        "id": "GIoxRruIzQGv"
      }
    },
    {
      "cell_type": "code",
      "source": [
        "from sklearn.model_selection import GridSearchCV"
      ],
      "metadata": {
        "id": "VIjQ0w2eXMq2"
      },
      "execution_count": 40,
      "outputs": []
    },
    {
      "cell_type": "code",
      "source": [
        "models = []"
      ],
      "metadata": {
        "id": "9OsKONM7TWho"
      },
      "execution_count": 41,
      "outputs": []
    },
    {
      "cell_type": "code",
      "source": [
        "def select_best_model_with_grid_search(grid, estimator, x_train, y_train):\n",
        "    grid_search = GridSearchCV(estimator=estimator, param_grid=grid, scoring='accuracy', verbose=5)\n",
        "    grid_result = grid_search.fit(x_train, y_train)\n",
        "    print(\"Best: %f using %s\" % (grid_result.best_score_, grid_result.best_params_))\n",
        "    return grid_result.best_estimator_"
      ],
      "metadata": {
        "id": "_nSQoDy0WEbP"
      },
      "execution_count": 42,
      "outputs": []
    },
    {
      "cell_type": "code",
      "source": [
        "model = KNeighborsClassifier().fit(x_train, y_train)\n",
        "print(\"Validation score:\", model.score(x_test, y_test))\n",
        "models.append(select_best_model_with_grid_search({\"n_neighbors\": list(range(5,50, 5))}, KNeighborsClassifier(), x_train, y_train))\n"
      ],
      "metadata": {
        "colab": {
          "base_uri": "https://localhost:8080/"
        },
        "id": "06umTr0YWqO-",
        "outputId": "60064005-679b-4619-e9c5-a3a78c169ef6"
      },
      "execution_count": 43,
      "outputs": [
        {
          "output_type": "stream",
          "name": "stdout",
          "text": [
            "Validation score: 0.9502399735201633\n",
            "Fitting 5 folds for each of 9 candidates, totalling 45 fits\n",
            "[CV 1/5] END .....................n_neighbors=5;, score=0.948 total time=   1.5s\n",
            "[CV 2/5] END .....................n_neighbors=5;, score=0.949 total time=   1.6s\n",
            "[CV 3/5] END .....................n_neighbors=5;, score=0.950 total time=   2.7s\n",
            "[CV 4/5] END .....................n_neighbors=5;, score=0.950 total time=   5.0s\n",
            "[CV 5/5] END .....................n_neighbors=5;, score=0.948 total time=   1.4s\n",
            "[CV 1/5] END ....................n_neighbors=10;, score=0.942 total time=   1.6s\n",
            "[CV 2/5] END ....................n_neighbors=10;, score=0.945 total time=   1.5s\n",
            "[CV 3/5] END ....................n_neighbors=10;, score=0.946 total time=   1.6s\n",
            "[CV 4/5] END ....................n_neighbors=10;, score=0.947 total time=   1.5s\n",
            "[CV 5/5] END ....................n_neighbors=10;, score=0.946 total time=   1.5s\n",
            "[CV 1/5] END ....................n_neighbors=15;, score=0.943 total time=   1.7s\n",
            "[CV 2/5] END ....................n_neighbors=15;, score=0.943 total time=   1.9s\n",
            "[CV 3/5] END ....................n_neighbors=15;, score=0.946 total time=   1.9s\n",
            "[CV 4/5] END ....................n_neighbors=15;, score=0.945 total time=   1.7s\n",
            "[CV 5/5] END ....................n_neighbors=15;, score=0.945 total time=   1.8s\n",
            "[CV 1/5] END ....................n_neighbors=20;, score=0.939 total time=   1.9s\n",
            "[CV 2/5] END ....................n_neighbors=20;, score=0.942 total time=   1.9s\n",
            "[CV 3/5] END ....................n_neighbors=20;, score=0.942 total time=   2.0s\n",
            "[CV 4/5] END ....................n_neighbors=20;, score=0.943 total time=   3.4s\n",
            "[CV 5/5] END ....................n_neighbors=20;, score=0.942 total time=   4.0s\n",
            "[CV 1/5] END ....................n_neighbors=25;, score=0.938 total time=   3.0s\n",
            "[CV 2/5] END ....................n_neighbors=25;, score=0.941 total time=   2.1s\n",
            "[CV 3/5] END ....................n_neighbors=25;, score=0.941 total time=   3.1s\n",
            "[CV 4/5] END ....................n_neighbors=25;, score=0.943 total time=   2.7s\n",
            "[CV 5/5] END ....................n_neighbors=25;, score=0.942 total time=   2.1s\n",
            "[CV 1/5] END ....................n_neighbors=30;, score=0.936 total time=   2.2s\n",
            "[CV 2/5] END ....................n_neighbors=30;, score=0.939 total time=   2.2s\n",
            "[CV 3/5] END ....................n_neighbors=30;, score=0.940 total time=   2.0s\n",
            "[CV 4/5] END ....................n_neighbors=30;, score=0.941 total time=   2.3s\n",
            "[CV 5/5] END ....................n_neighbors=30;, score=0.940 total time=   2.6s\n",
            "[CV 1/5] END ....................n_neighbors=35;, score=0.935 total time=   2.5s\n",
            "[CV 2/5] END ....................n_neighbors=35;, score=0.939 total time=   2.4s\n",
            "[CV 3/5] END ....................n_neighbors=35;, score=0.938 total time=   2.6s\n",
            "[CV 4/5] END ....................n_neighbors=35;, score=0.940 total time=   2.5s\n",
            "[CV 5/5] END ....................n_neighbors=35;, score=0.938 total time=   2.3s\n",
            "[CV 1/5] END ....................n_neighbors=40;, score=0.933 total time=   2.3s\n",
            "[CV 2/5] END ....................n_neighbors=40;, score=0.936 total time=   3.2s\n",
            "[CV 3/5] END ....................n_neighbors=40;, score=0.937 total time=   2.5s\n",
            "[CV 4/5] END ....................n_neighbors=40;, score=0.938 total time=   2.3s\n",
            "[CV 5/5] END ....................n_neighbors=40;, score=0.936 total time=   2.4s\n",
            "[CV 1/5] END ....................n_neighbors=45;, score=0.932 total time=   2.3s\n",
            "[CV 2/5] END ....................n_neighbors=45;, score=0.936 total time=   2.3s\n",
            "[CV 3/5] END ....................n_neighbors=45;, score=0.936 total time=   2.5s\n",
            "[CV 4/5] END ....................n_neighbors=45;, score=0.937 total time=   2.6s\n",
            "[CV 5/5] END ....................n_neighbors=45;, score=0.935 total time=   2.6s\n",
            "Best: 0.949247 using {'n_neighbors': 5}\n"
          ]
        }
      ]
    },
    {
      "cell_type": "markdown",
      "source": [
        "### **2. Decsion Tree _ GridSearchCV**"
      ],
      "metadata": {
        "id": "90g-17SkxbyP"
      }
    },
    {
      "cell_type": "code",
      "source": [
        "from sklearn.model_selection import GridSearchCV\n",
        "\n",
        "param_grid = {'max_features': ['auto', 'sqrt', 'log2'],\n",
        "              'ccp_alpha': [0.1, .01, .001],\n",
        "              'max_depth' : [5, 6, 7, 8, 9],\n",
        "              'criterion' :['gini', 'entropy']\n",
        "             }\n",
        "tree_clas = DecisionTreeClassifier(random_state=1024)\n",
        "grid_search = GridSearchCV(estimator=tree_clas, param_grid=param_grid, cv=5, verbose=True)\n",
        "grid_search.fit(x_train, y_train)"
      ],
      "metadata": {
        "colab": {
          "base_uri": "https://localhost:8080/"
        },
        "id": "XJoIU0C9q-VJ",
        "outputId": "a69798f7-b7cb-4a25-894f-adb9a97d2967"
      },
      "execution_count": 49,
      "outputs": [
        {
          "output_type": "stream",
          "name": "stdout",
          "text": [
            "Fitting 5 folds for each of 90 candidates, totalling 450 fits\n"
          ]
        },
        {
          "output_type": "execute_result",
          "data": {
            "text/plain": [
              "GridSearchCV(cv=5, estimator=DecisionTreeClassifier(random_state=1024),\n",
              "             param_grid={'ccp_alpha': [0.1, 0.01, 0.001],\n",
              "                         'criterion': ['gini', 'entropy'],\n",
              "                         'max_depth': [5, 6, 7, 8, 9],\n",
              "                         'max_features': ['auto', 'sqrt', 'log2']},\n",
              "             verbose=True)"
            ]
          },
          "metadata": {},
          "execution_count": 49
        }
      ]
    },
    {
      "cell_type": "code",
      "source": [
        "final_model = grid_search.best_estimator_\n",
        "final_model"
      ],
      "metadata": {
        "colab": {
          "base_uri": "https://localhost:8080/"
        },
        "id": "AlBZlcbsxp-H",
        "outputId": "5373bd98-e295-48d8-890b-18bfcf63387a"
      },
      "execution_count": 50,
      "outputs": [
        {
          "output_type": "execute_result",
          "data": {
            "text/plain": [
              "DecisionTreeClassifier(ccp_alpha=0.001, criterion='entropy', max_depth=8,\n",
              "                       max_features='auto', random_state=1024)"
            ]
          },
          "metadata": {},
          "execution_count": 50
        }
      ]
    },
    {
      "cell_type": "code",
      "source": [
        "#Training the model\n",
        "dtc2 = DecisionTreeClassifier(ccp_alpha=0.001, criterion='entropy', max_depth=8, \n",
        "                              max_features='auto', random_state=1024)\n",
        "dtc2.fit(x_train, y_train)\n",
        "dtc2_predictions = dtc2.predict(x_test)"
      ],
      "metadata": {
        "id": "KFj1RD2Lx2fj"
      },
      "execution_count": 52,
      "outputs": []
    },
    {
      "cell_type": "code",
      "source": [
        "print(accuracy_score(y_test, dtc2_predictions))"
      ],
      "metadata": {
        "colab": {
          "base_uri": "https://localhost:8080/"
        },
        "id": "TwYF8fHCyR_Z",
        "outputId": "02163eef-40e6-41f1-edb5-7c638ce5b39a"
      },
      "execution_count": 53,
      "outputs": [
        {
          "output_type": "stream",
          "name": "stdout",
          "text": [
            "0.9648038837093837\n"
          ]
        }
      ]
    }
  ]
}